{
  "cells": [
    {
      "cell_type": "markdown",
      "metadata": {
        "id": "view-in-github",
        "colab_type": "text"
      },
      "source": [
        "<a href=\"https://colab.research.google.com/github/Harbim001/Image-classification-with-ML/blob/main/CMM536_Coursework.ipynb\" target=\"_parent\"><img src=\"https://colab.research.google.com/assets/colab-badge.svg\" alt=\"Open In Colab\"/></a>"
      ]
    },
    {
      "cell_type": "code",
      "execution_count": null,
      "metadata": {
        "id": "LTVI0pDfLUaS",
        "colab": {
          "base_uri": "https://localhost:8080/"
        },
        "outputId": "ee0ea2d6-f309-48c2-f709-7bc2c1640ffa"
      },
      "outputs": [
        {
          "output_type": "stream",
          "name": "stdout",
          "text": [
            "Requirement already satisfied: opencv-python in /usr/local/lib/python3.7/dist-packages (4.1.2.30)\n",
            "Requirement already satisfied: numpy>=1.14.5 in /usr/local/lib/python3.7/dist-packages (from opencv-python) (1.21.6)\n",
            "Requirement already satisfied: matplotlib in /usr/local/lib/python3.7/dist-packages (3.2.2)\n",
            "Requirement already satisfied: kiwisolver>=1.0.1 in /usr/local/lib/python3.7/dist-packages (from matplotlib) (1.4.2)\n",
            "Requirement already satisfied: python-dateutil>=2.1 in /usr/local/lib/python3.7/dist-packages (from matplotlib) (2.8.2)\n",
            "Requirement already satisfied: cycler>=0.10 in /usr/local/lib/python3.7/dist-packages (from matplotlib) (0.11.0)\n",
            "Requirement already satisfied: numpy>=1.11 in /usr/local/lib/python3.7/dist-packages (from matplotlib) (1.21.6)\n",
            "Requirement already satisfied: pyparsing!=2.0.4,!=2.1.2,!=2.1.6,>=2.0.1 in /usr/local/lib/python3.7/dist-packages (from matplotlib) (3.0.8)\n",
            "Requirement already satisfied: typing-extensions in /usr/local/lib/python3.7/dist-packages (from kiwisolver>=1.0.1->matplotlib) (4.1.1)\n",
            "Requirement already satisfied: six>=1.5 in /usr/local/lib/python3.7/dist-packages (from python-dateutil>=2.1->matplotlib) (1.15.0)\n",
            "Requirement already satisfied: numpy in /usr/local/lib/python3.7/dist-packages (1.21.6)\n"
          ]
        }
      ],
      "source": [
        "# Installing Necessary Packages\n",
        "!pip install opencv-python\n",
        "!pip install matplotlib\n",
        "!pip install numpy"
      ]
    },
    {
      "cell_type": "code",
      "execution_count": null,
      "metadata": {
        "id": "429qVX-3Lv6e"
      },
      "outputs": [],
      "source": [
        "# Importing Necessary Packages\n",
        "import cv2\n",
        "import numpy as np\n",
        "import pandas as pd\n",
        "import matplotlib.pyplot as plt\n",
        "from sklearn.metrics import confusion_matrix, auc, roc_curve\n",
        "import os\n",
        "import seaborn as sns\n",
        "from sklearn.metrics import accuracy_score, classification_report, confusion_matrix, roc_curve, auc\n",
        "import os\n",
        "import numpy as np\n",
        "import cv2\n",
        "import csv"
      ]
    },
    {
      "cell_type": "code",
      "source": [
        "%tensorflow_version 1.x"
      ],
      "metadata": {
        "id": "cDPCkLgBg880",
        "colab": {
          "base_uri": "https://localhost:8080/"
        },
        "outputId": "f339ac7c-73b4-4762-a7e1-70e46a2cec82"
      },
      "execution_count": null,
      "outputs": [
        {
          "output_type": "stream",
          "name": "stdout",
          "text": [
            "TensorFlow 1.x selected.\n"
          ]
        }
      ]
    },
    {
      "cell_type": "code",
      "execution_count": null,
      "metadata": {
        "id": "S8Iw5JyuMCA-",
        "colab": {
          "base_uri": "https://localhost:8080/"
        },
        "outputId": "42145566-9d00-4abc-a59e-f63ddaacac2b"
      },
      "outputs": [
        {
          "output_type": "stream",
          "name": "stderr",
          "text": [
            "Using TensorFlow backend.\n"
          ]
        }
      ],
      "source": [
        "# Importing The Deep Learning Libraries\n",
        "import keras\n",
        "from keras.preprocessing import image\n",
        "from keras import layers\n",
        "from keras import models\n",
        "from sklearn.model_selection import train_test_split\n",
        "from skimage import feature\n",
        "from pandas import DataFrame\n",
        "from keras.utils import np_utils\n",
        "from keras.utils import to_categorical\n",
        "from keras.models import Sequential\n",
        "from keras.layers import Dense, Conv2D, Dropout, Flatten, MaxPooling2D"
      ]
    },
    {
      "cell_type": "markdown",
      "metadata": {
        "id": "kKC0PbtpNJJ3"
      },
      "source": [
        "### **Dataset Collection**"
      ]
    },
    {
      "cell_type": "markdown",
      "metadata": {
        "id": "jrViH1dHNn6a"
      },
      "source": [
        "The Dataset consist of 3,615 x-ray images, which were gotten from two different sources;\n",
        "\n",
        "* Hand & Shoulder Dataset : “MURA Dataset: Towards Radiologist-Level Abnormality Detection In Musculoskeletal Radiographs”. (n.d.). , available at: https://web.archive.org/web/20220227144734/https://stanfordmlgroup.github.io/competitions/mura/ (accessed 27 February 2022). 553 & 2,031 of hand and shoulder smaples were chosen at random from the training side of the \"normal\" images.\n",
        "\n",
        "* Chest Dataset : “Chest Xray”. (n.d.). , available at: https://web.archive.org/web/20220227144913/https://www.kaggle.com/inhcngphan/chest-xray/metadata (accessed 27 February 2022). 1031 Samples were chosen at random from the training side of the \"Bacteria & Phenumonia\" images."
      ]
    },
    {
      "cell_type": "code",
      "execution_count": null,
      "metadata": {
        "colab": {
          "base_uri": "https://localhost:8080/"
        },
        "id": "_DzUWvhwMGLl",
        "outputId": "af39498a-f11e-4185-f372-554f00691ba5"
      },
      "outputs": [
        {
          "output_type": "stream",
          "name": "stdout",
          "text": [
            "Drive already mounted at /content/drive; to attempt to forcibly remount, call drive.mount(\"/content/drive\", force_remount=True).\n"
          ]
        }
      ],
      "source": [
        "# Loading The Dataset \n",
        "from google.colab import drive\n",
        "drive.mount('/content/drive')"
      ]
    },
    {
      "cell_type": "code",
      "execution_count": null,
      "metadata": {
        "colab": {
          "base_uri": "https://localhost:8080/"
        },
        "id": "RFSofLldO-Ym",
        "outputId": "43d71089-0679-4ef1-e9da-dd05c72f167c"
      },
      "outputs": [
        {
          "output_type": "stream",
          "name": "stdout",
          "text": [
            "/content/drive/My Drive/image_data\n"
          ]
        }
      ],
      "source": [
        "cd drive/My Drive/image_data"
      ]
    },
    {
      "cell_type": "markdown",
      "metadata": {
        "id": "z81A65K32cU5"
      },
      "source": [
        "###**Importing The Images, Extracting The HOG Features, And Converting The Image Repository In a Pandas Data Frame**"
      ]
    },
    {
      "cell_type": "code",
      "execution_count": null,
      "metadata": {
        "id": "1yo5lt3H1gJE"
      },
      "outputs": [],
      "source": [
        "# Defining The Class To Extract The HOG Features\n",
        "class HOG:\n",
        "    def __init__(self, orientations = 9, pixelsPerCell = (8, 8),\n",
        "        cellsPerBlock = (3, 3), transform = False):\n",
        "        self.orienations = orientations\n",
        "        self.pixelsPerCell = pixelsPerCell\n",
        "        self.cellsPerBlock = cellsPerBlock\n",
        "        self.transform = transform\n",
        "\n",
        "    def describe(self, image):\n",
        "        # Computing HOG Tor The Image\n",
        "        hist = feature.hog(image, orientations = self.orienations,\n",
        "            pixels_per_cell = self.pixelsPerCell,\n",
        "            cells_per_block = self.cellsPerBlock,\n",
        "            transform_sqrt = self.transform)\n",
        "        # Return The HOG Features\n",
        "        return hist\n",
        "    \n",
        "hog = HOG(orientations = 18, pixelsPerCell = (10, 10), cellsPerBlock = (1, 1), transform = True)"
      ]
    },
    {
      "cell_type": "code",
      "execution_count": null,
      "metadata": {
        "colab": {
          "base_uri": "https://localhost:8080/",
          "height": 423
        },
        "id": "1WXQUjlXSIXd",
        "outputId": "aa162587-29a3-433a-d856-f115f5a73a7d"
      },
      "outputs": [
        {
          "output_type": "execute_result",
          "data": {
            "text/plain": [
              "       0   1    2   3    4    5    6    7   8   9  ...  9991  9992  9993  \\\n",
              "0     57  57   57  57   57   56   58   55  56  57  ...    56    57    56   \n",
              "1     55  55   53  55   54   57   57   56  54  54  ...    53    54    53   \n",
              "2      0   0   41  41   41   41   41   41  42  42  ...    41    41    41   \n",
              "3      0   0   38  38   38   38   37   37  37  38  ...    41    41    41   \n",
              "4     32  32   32  32   32   32   32   32  32  31  ...     2     2     2   \n",
              "...   ..  ..  ...  ..  ...  ...  ...  ...  ..  ..  ...   ...   ...   ...   \n",
              "3610  42  45   48  53   60   61   62   66  67  95  ...  -117   122    82   \n",
              "3611 -37 -82  -73 -68 -106   74    1    4  14  15  ...    70    21    18   \n",
              "3612 -91 -93 -120  98   92   76   80   77  78  78  ...  -103   120    73   \n",
              "3613 -46 -53  -52 -78  -98 -112  120  118  63  34  ...    93    73    52   \n",
              "3614  55  60   58  61   63   66   66   66  67  75  ...   119   103    86   \n",
              "\n",
              "      9994  9995  9996  9997  9998  9999  class  \n",
              "0       58    58    58    58    59    58   Hand  \n",
              "1       54    54    55    55    56    57   Hand  \n",
              "2       41    21     0     0     0     0   Hand  \n",
              "3       41    41    41    41    41     0   Hand  \n",
              "4        2     2     2     2     2     2   Hand  \n",
              "...    ...   ...   ...   ...   ...   ...    ...  \n",
              "3610    63    19    31    31    32    36  Chest  \n",
              "3611    20    20    22    23    23    24  Chest  \n",
              "3612    69    52     5    12    15    17  Chest  \n",
              "3613    21    24    29    20    42    69  Chest  \n",
              "3614    58    52    37     7    12    14  Chest  \n",
              "\n",
              "[3615 rows x 10001 columns]"
            ],
            "text/html": [
              "\n",
              "  <div id=\"df-265f460e-6b66-49c2-b211-4c65b11df887\">\n",
              "    <div class=\"colab-df-container\">\n",
              "      <div>\n",
              "<style scoped>\n",
              "    .dataframe tbody tr th:only-of-type {\n",
              "        vertical-align: middle;\n",
              "    }\n",
              "\n",
              "    .dataframe tbody tr th {\n",
              "        vertical-align: top;\n",
              "    }\n",
              "\n",
              "    .dataframe thead th {\n",
              "        text-align: right;\n",
              "    }\n",
              "</style>\n",
              "<table border=\"1\" class=\"dataframe\">\n",
              "  <thead>\n",
              "    <tr style=\"text-align: right;\">\n",
              "      <th></th>\n",
              "      <th>0</th>\n",
              "      <th>1</th>\n",
              "      <th>2</th>\n",
              "      <th>3</th>\n",
              "      <th>4</th>\n",
              "      <th>5</th>\n",
              "      <th>6</th>\n",
              "      <th>7</th>\n",
              "      <th>8</th>\n",
              "      <th>9</th>\n",
              "      <th>...</th>\n",
              "      <th>9991</th>\n",
              "      <th>9992</th>\n",
              "      <th>9993</th>\n",
              "      <th>9994</th>\n",
              "      <th>9995</th>\n",
              "      <th>9996</th>\n",
              "      <th>9997</th>\n",
              "      <th>9998</th>\n",
              "      <th>9999</th>\n",
              "      <th>class</th>\n",
              "    </tr>\n",
              "  </thead>\n",
              "  <tbody>\n",
              "    <tr>\n",
              "      <th>0</th>\n",
              "      <td>57</td>\n",
              "      <td>57</td>\n",
              "      <td>57</td>\n",
              "      <td>57</td>\n",
              "      <td>57</td>\n",
              "      <td>56</td>\n",
              "      <td>58</td>\n",
              "      <td>55</td>\n",
              "      <td>56</td>\n",
              "      <td>57</td>\n",
              "      <td>...</td>\n",
              "      <td>56</td>\n",
              "      <td>57</td>\n",
              "      <td>56</td>\n",
              "      <td>58</td>\n",
              "      <td>58</td>\n",
              "      <td>58</td>\n",
              "      <td>58</td>\n",
              "      <td>59</td>\n",
              "      <td>58</td>\n",
              "      <td>Hand</td>\n",
              "    </tr>\n",
              "    <tr>\n",
              "      <th>1</th>\n",
              "      <td>55</td>\n",
              "      <td>55</td>\n",
              "      <td>53</td>\n",
              "      <td>55</td>\n",
              "      <td>54</td>\n",
              "      <td>57</td>\n",
              "      <td>57</td>\n",
              "      <td>56</td>\n",
              "      <td>54</td>\n",
              "      <td>54</td>\n",
              "      <td>...</td>\n",
              "      <td>53</td>\n",
              "      <td>54</td>\n",
              "      <td>53</td>\n",
              "      <td>54</td>\n",
              "      <td>54</td>\n",
              "      <td>55</td>\n",
              "      <td>55</td>\n",
              "      <td>56</td>\n",
              "      <td>57</td>\n",
              "      <td>Hand</td>\n",
              "    </tr>\n",
              "    <tr>\n",
              "      <th>2</th>\n",
              "      <td>0</td>\n",
              "      <td>0</td>\n",
              "      <td>41</td>\n",
              "      <td>41</td>\n",
              "      <td>41</td>\n",
              "      <td>41</td>\n",
              "      <td>41</td>\n",
              "      <td>41</td>\n",
              "      <td>42</td>\n",
              "      <td>42</td>\n",
              "      <td>...</td>\n",
              "      <td>41</td>\n",
              "      <td>41</td>\n",
              "      <td>41</td>\n",
              "      <td>41</td>\n",
              "      <td>21</td>\n",
              "      <td>0</td>\n",
              "      <td>0</td>\n",
              "      <td>0</td>\n",
              "      <td>0</td>\n",
              "      <td>Hand</td>\n",
              "    </tr>\n",
              "    <tr>\n",
              "      <th>3</th>\n",
              "      <td>0</td>\n",
              "      <td>0</td>\n",
              "      <td>38</td>\n",
              "      <td>38</td>\n",
              "      <td>38</td>\n",
              "      <td>38</td>\n",
              "      <td>37</td>\n",
              "      <td>37</td>\n",
              "      <td>37</td>\n",
              "      <td>38</td>\n",
              "      <td>...</td>\n",
              "      <td>41</td>\n",
              "      <td>41</td>\n",
              "      <td>41</td>\n",
              "      <td>41</td>\n",
              "      <td>41</td>\n",
              "      <td>41</td>\n",
              "      <td>41</td>\n",
              "      <td>41</td>\n",
              "      <td>0</td>\n",
              "      <td>Hand</td>\n",
              "    </tr>\n",
              "    <tr>\n",
              "      <th>4</th>\n",
              "      <td>32</td>\n",
              "      <td>32</td>\n",
              "      <td>32</td>\n",
              "      <td>32</td>\n",
              "      <td>32</td>\n",
              "      <td>32</td>\n",
              "      <td>32</td>\n",
              "      <td>32</td>\n",
              "      <td>32</td>\n",
              "      <td>31</td>\n",
              "      <td>...</td>\n",
              "      <td>2</td>\n",
              "      <td>2</td>\n",
              "      <td>2</td>\n",
              "      <td>2</td>\n",
              "      <td>2</td>\n",
              "      <td>2</td>\n",
              "      <td>2</td>\n",
              "      <td>2</td>\n",
              "      <td>2</td>\n",
              "      <td>Hand</td>\n",
              "    </tr>\n",
              "    <tr>\n",
              "      <th>...</th>\n",
              "      <td>...</td>\n",
              "      <td>...</td>\n",
              "      <td>...</td>\n",
              "      <td>...</td>\n",
              "      <td>...</td>\n",
              "      <td>...</td>\n",
              "      <td>...</td>\n",
              "      <td>...</td>\n",
              "      <td>...</td>\n",
              "      <td>...</td>\n",
              "      <td>...</td>\n",
              "      <td>...</td>\n",
              "      <td>...</td>\n",
              "      <td>...</td>\n",
              "      <td>...</td>\n",
              "      <td>...</td>\n",
              "      <td>...</td>\n",
              "      <td>...</td>\n",
              "      <td>...</td>\n",
              "      <td>...</td>\n",
              "      <td>...</td>\n",
              "    </tr>\n",
              "    <tr>\n",
              "      <th>3610</th>\n",
              "      <td>42</td>\n",
              "      <td>45</td>\n",
              "      <td>48</td>\n",
              "      <td>53</td>\n",
              "      <td>60</td>\n",
              "      <td>61</td>\n",
              "      <td>62</td>\n",
              "      <td>66</td>\n",
              "      <td>67</td>\n",
              "      <td>95</td>\n",
              "      <td>...</td>\n",
              "      <td>-117</td>\n",
              "      <td>122</td>\n",
              "      <td>82</td>\n",
              "      <td>63</td>\n",
              "      <td>19</td>\n",
              "      <td>31</td>\n",
              "      <td>31</td>\n",
              "      <td>32</td>\n",
              "      <td>36</td>\n",
              "      <td>Chest</td>\n",
              "    </tr>\n",
              "    <tr>\n",
              "      <th>3611</th>\n",
              "      <td>-37</td>\n",
              "      <td>-82</td>\n",
              "      <td>-73</td>\n",
              "      <td>-68</td>\n",
              "      <td>-106</td>\n",
              "      <td>74</td>\n",
              "      <td>1</td>\n",
              "      <td>4</td>\n",
              "      <td>14</td>\n",
              "      <td>15</td>\n",
              "      <td>...</td>\n",
              "      <td>70</td>\n",
              "      <td>21</td>\n",
              "      <td>18</td>\n",
              "      <td>20</td>\n",
              "      <td>20</td>\n",
              "      <td>22</td>\n",
              "      <td>23</td>\n",
              "      <td>23</td>\n",
              "      <td>24</td>\n",
              "      <td>Chest</td>\n",
              "    </tr>\n",
              "    <tr>\n",
              "      <th>3612</th>\n",
              "      <td>-91</td>\n",
              "      <td>-93</td>\n",
              "      <td>-120</td>\n",
              "      <td>98</td>\n",
              "      <td>92</td>\n",
              "      <td>76</td>\n",
              "      <td>80</td>\n",
              "      <td>77</td>\n",
              "      <td>78</td>\n",
              "      <td>78</td>\n",
              "      <td>...</td>\n",
              "      <td>-103</td>\n",
              "      <td>120</td>\n",
              "      <td>73</td>\n",
              "      <td>69</td>\n",
              "      <td>52</td>\n",
              "      <td>5</td>\n",
              "      <td>12</td>\n",
              "      <td>15</td>\n",
              "      <td>17</td>\n",
              "      <td>Chest</td>\n",
              "    </tr>\n",
              "    <tr>\n",
              "      <th>3613</th>\n",
              "      <td>-46</td>\n",
              "      <td>-53</td>\n",
              "      <td>-52</td>\n",
              "      <td>-78</td>\n",
              "      <td>-98</td>\n",
              "      <td>-112</td>\n",
              "      <td>120</td>\n",
              "      <td>118</td>\n",
              "      <td>63</td>\n",
              "      <td>34</td>\n",
              "      <td>...</td>\n",
              "      <td>93</td>\n",
              "      <td>73</td>\n",
              "      <td>52</td>\n",
              "      <td>21</td>\n",
              "      <td>24</td>\n",
              "      <td>29</td>\n",
              "      <td>20</td>\n",
              "      <td>42</td>\n",
              "      <td>69</td>\n",
              "      <td>Chest</td>\n",
              "    </tr>\n",
              "    <tr>\n",
              "      <th>3614</th>\n",
              "      <td>55</td>\n",
              "      <td>60</td>\n",
              "      <td>58</td>\n",
              "      <td>61</td>\n",
              "      <td>63</td>\n",
              "      <td>66</td>\n",
              "      <td>66</td>\n",
              "      <td>66</td>\n",
              "      <td>67</td>\n",
              "      <td>75</td>\n",
              "      <td>...</td>\n",
              "      <td>119</td>\n",
              "      <td>103</td>\n",
              "      <td>86</td>\n",
              "      <td>58</td>\n",
              "      <td>52</td>\n",
              "      <td>37</td>\n",
              "      <td>7</td>\n",
              "      <td>12</td>\n",
              "      <td>14</td>\n",
              "      <td>Chest</td>\n",
              "    </tr>\n",
              "  </tbody>\n",
              "</table>\n",
              "<p>3615 rows × 10001 columns</p>\n",
              "</div>\n",
              "      <button class=\"colab-df-convert\" onclick=\"convertToInteractive('df-265f460e-6b66-49c2-b211-4c65b11df887')\"\n",
              "              title=\"Convert this dataframe to an interactive table.\"\n",
              "              style=\"display:none;\">\n",
              "        \n",
              "  <svg xmlns=\"http://www.w3.org/2000/svg\" height=\"24px\"viewBox=\"0 0 24 24\"\n",
              "       width=\"24px\">\n",
              "    <path d=\"M0 0h24v24H0V0z\" fill=\"none\"/>\n",
              "    <path d=\"M18.56 5.44l.94 2.06.94-2.06 2.06-.94-2.06-.94-.94-2.06-.94 2.06-2.06.94zm-11 1L8.5 8.5l.94-2.06 2.06-.94-2.06-.94L8.5 2.5l-.94 2.06-2.06.94zm10 10l.94 2.06.94-2.06 2.06-.94-2.06-.94-.94-2.06-.94 2.06-2.06.94z\"/><path d=\"M17.41 7.96l-1.37-1.37c-.4-.4-.92-.59-1.43-.59-.52 0-1.04.2-1.43.59L10.3 9.45l-7.72 7.72c-.78.78-.78 2.05 0 2.83L4 21.41c.39.39.9.59 1.41.59.51 0 1.02-.2 1.41-.59l7.78-7.78 2.81-2.81c.8-.78.8-2.07 0-2.86zM5.41 20L4 18.59l7.72-7.72 1.47 1.35L5.41 20z\"/>\n",
              "  </svg>\n",
              "      </button>\n",
              "      \n",
              "  <style>\n",
              "    .colab-df-container {\n",
              "      display:flex;\n",
              "      flex-wrap:wrap;\n",
              "      gap: 12px;\n",
              "    }\n",
              "\n",
              "    .colab-df-convert {\n",
              "      background-color: #E8F0FE;\n",
              "      border: none;\n",
              "      border-radius: 50%;\n",
              "      cursor: pointer;\n",
              "      display: none;\n",
              "      fill: #1967D2;\n",
              "      height: 32px;\n",
              "      padding: 0 0 0 0;\n",
              "      width: 32px;\n",
              "    }\n",
              "\n",
              "    .colab-df-convert:hover {\n",
              "      background-color: #E2EBFA;\n",
              "      box-shadow: 0px 1px 2px rgba(60, 64, 67, 0.3), 0px 1px 3px 1px rgba(60, 64, 67, 0.15);\n",
              "      fill: #174EA6;\n",
              "    }\n",
              "\n",
              "    [theme=dark] .colab-df-convert {\n",
              "      background-color: #3B4455;\n",
              "      fill: #D2E3FC;\n",
              "    }\n",
              "\n",
              "    [theme=dark] .colab-df-convert:hover {\n",
              "      background-color: #434B5C;\n",
              "      box-shadow: 0px 1px 3px 1px rgba(0, 0, 0, 0.15);\n",
              "      filter: drop-shadow(0px 1px 2px rgba(0, 0, 0, 0.3));\n",
              "      fill: #FFFFFF;\n",
              "    }\n",
              "  </style>\n",
              "\n",
              "      <script>\n",
              "        const buttonEl =\n",
              "          document.querySelector('#df-265f460e-6b66-49c2-b211-4c65b11df887 button.colab-df-convert');\n",
              "        buttonEl.style.display =\n",
              "          google.colab.kernel.accessAllowed ? 'block' : 'none';\n",
              "\n",
              "        async function convertToInteractive(key) {\n",
              "          const element = document.querySelector('#df-265f460e-6b66-49c2-b211-4c65b11df887');\n",
              "          const dataTable =\n",
              "            await google.colab.kernel.invokeFunction('convertToInteractive',\n",
              "                                                     [key], {});\n",
              "          if (!dataTable) return;\n",
              "\n",
              "          const docLinkHtml = 'Like what you see? Visit the ' +\n",
              "            '<a target=\"_blank\" href=https://colab.research.google.com/notebooks/data_table.ipynb>data table notebook</a>'\n",
              "            + ' to learn more about interactive tables.';\n",
              "          element.innerHTML = '';\n",
              "          dataTable['output_type'] = 'display_data';\n",
              "          await google.colab.output.renderOutput(dataTable, element);\n",
              "          const docLink = document.createElement('div');\n",
              "          docLink.innerHTML = docLinkHtml;\n",
              "          element.appendChild(docLink);\n",
              "        }\n",
              "      </script>\n",
              "    </div>\n",
              "  </div>\n",
              "  "
            ]
          },
          "metadata": {},
          "execution_count": 8
        }
      ],
      "source": [
        "resize_factor = 100\n",
        "path = '/content/drive/MyDrive/image_data'\n",
        "datarepo = [] # List to append the images as 2D numpy arrays\n",
        "target =  [] # List to append the target/class/label\n",
        "flattenedrepo = [] # List for the flattened pixels\n",
        "hogrepo = [] # List to append the HOG features\n",
        "for root, dirs, files in os.walk(path):\n",
        "     for file in files:\n",
        "        with open(os.path.join(root, file), \"r\") as auto:\n",
        "            try:\n",
        "                img = cv2.imread(root+'/'+file, 0)\n",
        "                img = cv2.resize(img, (resize_factor, resize_factor)) \n",
        "                datarepo.append(img)\n",
        "                flattenedrepo.append(img.flatten())\n",
        "                # Extracting HOG and Appending The Flattened Image To The Pixel Repo\n",
        "                hogfeatures = hog.describe(img)\n",
        "                hogrepo.append(hogfeatures)\n",
        "                # Append The Folders Where The Image Is To The Target List\n",
        "                target.append(root.replace(path,'').replace('\\\\','').replace('/',''))\n",
        "            except Exception as e:\n",
        "                print(\"Invalid file \"+file+\" skipped.\")\n",
        "\n",
        "# Converting The Repo List Into Pandas Dataframe\n",
        "flattenedrepotarget = DataFrame(flattenedrepo)\n",
        "flattenedrepotarget['class']= DataFrame(target)\n",
        "flattenedrepotarget"
      ]
    },
    {
      "cell_type": "code",
      "execution_count": null,
      "metadata": {
        "colab": {
          "base_uri": "https://localhost:8080/",
          "height": 620
        },
        "id": "2m0XRwQYZYsi",
        "outputId": "c1445678-2d70-4c91-a51a-f304dadb8c24"
      },
      "outputs": [
        {
          "output_type": "stream",
          "name": "stdout",
          "text": [
            "\n",
            "Calculating class distribution for the flattenedrepo...\n",
            "      Class  Number of Samples\n",
            "0     Chest               1031\n",
            "1      Hand                553\n",
            "2  Shoulder               2031\n",
            "Total images: 3615\n",
            "\n",
            "Showing class distribution bar chart...\n"
          ]
        },
        {
          "output_type": "display_data",
          "data": {
            "text/plain": [
              "<Figure size 720x432 with 1 Axes>"
            ],
            "image/png": "[encoded data removed]"
          },
          "metadata": {
            "needs_background": "light"
          }
        },
        {
          "output_type": "stream",
          "name": "stdout",
          "text": [
            "Size of target:  3615\n",
            "Size of data (3615, 100, 100)\n",
            "Size of flattened repository:  (3615, 10000)\n",
            "Size of HOG features data structure:  (3615, 1800)\n"
          ]
        }
      ],
      "source": [
        "print('\\nCalculating class distribution for the flattenedrepo...')\n",
        "histo = [['Class','Number of Samples']]\n",
        "for i, label1 in enumerate(sorted(list(set(target)))):\n",
        "    cont = 0\n",
        "    for j, label2 in enumerate(target):\n",
        "        if label1 == label2:\n",
        "            cont+=1\n",
        "    histo.append([label1,cont])\n",
        "histo.append(['Total Samples', len(target)])\n",
        "# Converting The Repo Lists Into Numpy Arrays\n",
        "flattenedrepo = np.array(flattenedrepo)\n",
        "hogrepo = np.array(hogrepo)\n",
        "datarepo = np.array(datarepo)\n",
        "# Load As A Panda\n",
        "histo_panda = pd.DataFrame.from_records(histo[1:-1], columns=histo[0])\n",
        "print(histo_panda)\n",
        "print('Total images: '+str(len(target)))\n",
        "# Creating An Histogram Using Seaborn\n",
        "sns_plot = sns.barplot(y=\"Class\", x=\"Number of Samples\", data=histo_panda)\n",
        "# Save The Image\n",
        "sns_plot.figure.set_size_inches(10,6)\n",
        "print('\\nShowing class distribution bar chart...')\n",
        "plt.show()\n",
        "print('Size of target: ', len(target))\n",
        "print('Size of data', datarepo.shape)\n",
        "print('Size of flattened repository: ', flattenedrepo.shape)\n",
        "print('Size of HOG features data structure: ', hogrepo.shape)"
      ]
    },
    {
      "cell_type": "markdown",
      "metadata": {
        "id": "gae7mMseuY-a"
      },
      "source": [
        "###**Sample Image Of Each Data Repository**\n"
      ]
    },
    {
      "cell_type": "code",
      "execution_count": null,
      "metadata": {
        "colab": {
          "base_uri": "https://localhost:8080/",
          "height": 281
        },
        "id": "fNE0y-QRuuNc",
        "outputId": "b8b18af7-1b05-48f7-b209-588c1ee07c5e"
      },
      "outputs": [
        {
          "output_type": "display_data",
          "data": {
            "text/plain": [
              "<Figure size 864x288 with 3 Axes>"
            ],
            "image/png": "[encoded data removed]"
          },
          "metadata": {
            "needs_background": "light"
          }
        }
      ],
      "source": [
        "img_chest = cv2.imread('Chest/person81_virus_152.jpeg', 0)\n",
        "img_hand = cv2.imread('Hand/image2 (2).png', 0)\n",
        "img_shoulder = cv2.imread('Shoulder/image1 (2).png', 0)\n",
        "\n",
        "plt.figure(figsize = (12,4))\n",
        "plt.subplot(1,3,1)\n",
        "plt.imshow(img_chest, cmap = 'gray')\n",
        "plt.title('Chest')\n",
        "plt.subplot(1,3,2)\n",
        "plt.imshow(img_hand, cmap = 'gray')\n",
        "plt.title('Hand')\n",
        "plt.subplot(1,3,3)\n",
        "plt.imshow(img_shoulder, cmap = 'gray')\n",
        "plt.title('Shoulder')\n",
        "plt.show()"
      ]
    },
    {
      "cell_type": "markdown",
      "metadata": {
        "id": "GLgN1YeiyEu-"
      },
      "source": [
        "###**Implementing a Stratified Data Split On All Three Data Repository ( unaltered data, flattened data, hog data).**"
      ]
    },
    {
      "cell_type": "markdown",
      "metadata": {
        "id": "NAI3HuO_yc6M"
      },
      "source": [
        "* This invovles spliting the dataset's, where 30% of the dataset will be used for testing and 70% for training."
      ]
    },
    {
      "cell_type": "code",
      "execution_count": null,
      "metadata": {
        "id": "u012KCI7zCln"
      },
      "outputs": [],
      "source": [
        "# Original Dataset Split\n",
        "data_train, data_test, targetdata_train, targetdata_test = train_test_split(datarepo,\n",
        "                                                          target, test_size = 0.3,\n",
        "                                                            random_state=42, stratify=target) \n",
        "\n",
        "# Flattened Image Dataset Split\n",
        "flatteneddata_train, flatteneddata_test, targetflatteneddata_train, targetflatteneddata_test = train_test_split(flattenedrepo, \n",
        "                                                                          target, test_size=0.3, \n",
        "                                                                          random_state=42, stratify=target)\n",
        "# Hog Dataset Split\n",
        "hogdata_train, hogdata_test, targethogdata_train, targethogdata_test = train_test_split(hogrepo, \n",
        "                                                                          target, test_size=0.3, \n",
        "                                                                          random_state=42, stratify=target)\n",
        "\n"
      ]
    },
    {
      "cell_type": "markdown",
      "metadata": {
        "id": "Agtxd6vH45RZ"
      },
      "source": [
        "* There are now **2530** training samples and **1084** test samples of each dataset."
      ]
    },
    {
      "cell_type": "markdown",
      "metadata": {
        "id": "r-Krt4P4--hB"
      },
      "source": [
        "###**Class Distriution Plot For The Training And Test Dataset**\n",
        "\n"
      ]
    },
    {
      "cell_type": "code",
      "execution_count": null,
      "metadata": {
        "colab": {
          "base_uri": "https://localhost:8080/",
          "height": 548
        },
        "id": "q7HEqCME8nMd",
        "outputId": "f1481173-c081-406b-fec7-6897c43ddec2"
      },
      "outputs": [
        {
          "output_type": "stream",
          "name": "stdout",
          "text": [
            "\n",
            "Calculating class distribution for the training set...\n",
            "      Class  Number of Samples\n",
            "0     Chest                722\n",
            "1      Hand                387\n",
            "2  Shoulder               1421\n",
            "Total images: 2530\n",
            "\n",
            "Showing class distribution bar chart for the training set...\n"
          ]
        },
        {
          "output_type": "display_data",
          "data": {
            "text/plain": [
              "<Figure size 720x432 with 1 Axes>"
            ],
            "image/png": "[encoded data removed]"
          },
          "metadata": {
            "needs_background": "light"
          }
        }
      ],
      "source": [
        "# Plot For The Training Dataset\n",
        "\n",
        "print('\\nCalculating class distribution for the training set...')\n",
        "histo = [['Class','Number of Samples']]\n",
        "for i, label1 in enumerate(sorted(list(set(targetflatteneddata_train)))):\n",
        "    cont = 0\n",
        "    for j, label2 in enumerate(targetflatteneddata_train):\n",
        "        if label1 == label2:\n",
        "            cont+=1\n",
        "    histo.append([label1,cont])\n",
        "histo.append(['Total Samples', len(targetflatteneddata_train)])\n",
        "# Load As A Panda\n",
        "histo_panda = pd.DataFrame.from_records(histo[1:-1], columns=histo[0])\n",
        "print(histo_panda)\n",
        "print('Total images: '+str(len(targetflatteneddata_train)))\n",
        "# Creating An Histogram Using Seaborn\n",
        "sns_plot = sns.barplot(y=\"Class\", x=\"Number of Samples\", data=histo_panda)\n",
        "# Save The Image\n",
        "sns_plot.figure.set_size_inches(10,6)\n",
        "print('\\nShowing class distribution bar chart for the training set...')\n",
        "plt.show()"
      ]
    },
    {
      "cell_type": "code",
      "execution_count": null,
      "metadata": {
        "colab": {
          "base_uri": "https://localhost:8080/",
          "height": 548
        },
        "id": "_SUDUX1O3CSu",
        "outputId": "0579a312-949d-4f49-ecd8-beba52b940e6"
      },
      "outputs": [
        {
          "output_type": "stream",
          "name": "stdout",
          "text": [
            "\n",
            "Calculating class distribution for the test set...\n",
            "      Class  Number of Samples\n",
            "0     Chest                309\n",
            "1      Hand                166\n",
            "2  Shoulder                610\n",
            "Total images: 1085\n",
            "\n",
            "Showing class distribution bar chart for the test set...\n"
          ]
        },
        {
          "output_type": "display_data",
          "data": {
            "text/plain": [
              "<Figure size 720x432 with 1 Axes>"
            ],
            "image/png": "[encoded data removed]"
          },
          "metadata": {
            "needs_background": "light"
          }
        }
      ],
      "source": [
        "# Plot For The Test Dataset\n",
        "\n",
        "print('\\nCalculating class distribution for the test set...')\n",
        "histo = [['Class','Number of Samples']]\n",
        "for i, label1 in enumerate(sorted(list(set(targetflatteneddata_test)))):\n",
        "    cont = 0\n",
        "    for j, label2 in enumerate(targetflatteneddata_test):\n",
        "        if label1 == label2:\n",
        "            cont+=1\n",
        "    histo.append([label1,cont])\n",
        "histo.append(['Total Samples', len(targetflatteneddata_test)])\n",
        "# Load As A Panda\n",
        "histo_panda = pd.DataFrame.from_records(histo[1:-1], columns=histo[0])\n",
        "print(histo_panda)\n",
        "print('Total images: '+str(len(targetflatteneddata_test)))\n",
        "# Creating An Histogram Using Seaborn\n",
        "sns_plot = sns.barplot(y=\"Class\", x=\"Number of Samples\", data=histo_panda)\n",
        "# Save The Image\n",
        "sns_plot.figure.set_size_inches(10,6)\n",
        "print('\\nShowing class distribution bar chart for the test set...')\n",
        "plt.show()"
      ]
    },
    {
      "cell_type": "markdown",
      "metadata": {
        "id": "NirdaXcY7B5b"
      },
      "source": [
        "##**Task A**"
      ]
    },
    {
      "cell_type": "markdown",
      "metadata": {
        "id": "YNv10QkQ-M9g"
      },
      "source": [
        "Training the training dataset and testing on the test dataset by a convolutional neural network-based machine learning architecture CNN, using keras and tensorflow as the backend."
      ]
    },
    {
      "cell_type": "code",
      "execution_count": null,
      "metadata": {
        "colab": {
          "base_uri": "https://localhost:8080/"
        },
        "id": "B3mAAupj-Gd1",
        "outputId": "40fad854-a645-4a0e-91e4-0038d0134c30"
      },
      "outputs": [
        {
          "output_type": "stream",
          "name": "stdout",
          "text": [
            "(2530, 100, 100) (1085, 100, 100)\n"
          ]
        }
      ],
      "source": [
        "os.environ['KERAS_BACKEND'] = 'tensorflow'\n",
        "np.random.seed(123)\n",
        "print(data_train.shape, data_test.shape)"
      ]
    },
    {
      "cell_type": "code",
      "execution_count": null,
      "metadata": {
        "id": "QL8j2liyJNjV"
      },
      "outputs": [],
      "source": [
        "# Preprocessing the input data\n",
        "\n",
        "# Reshaping Into Four Dimensions.\n",
        "data_train_reshape = data_train.reshape(data_train.shape[0], 100, 100, 1)\n",
        "data_test_reshape = data_test.reshape(data_test.shape[0], 100, 100,  1) \n",
        "\n",
        "# Converting To Float 32\n",
        "data_train_reshape = data_train_reshape.astype('float32')\n",
        "data_test_reshape = data_test_reshape.astype('float32')\n",
        "\n",
        "# Normalise\n",
        "data_train_reshape /= 255\n",
        "data_test_reshape /= 255\n",
        "\n",
        "# Converting From Strings To Integers For Viewing\n",
        "targetdata_train = pd.factorize(targetdata_train)[0].astype(np.uint8)\n",
        "targetdata_test = pd.factorize(targetdata_test)[0].astype(np.uint8)\n",
        "\n",
        "# One-hot Encoding Using keras' Numpy-related Utilities\n",
        "targetdata_train_categorical = np_utils.to_categorical(targetdata_train, 3)\n",
        "targetdata_test_categorical = np_utils.to_categorical(targetdata_test, 3)                       "
      ]
    },
    {
      "cell_type": "code",
      "source": [
        "# Building A Linear Stack Of Layers With The Sequential Model\n",
        "\n",
        "model = Sequential()\n",
        " \n",
        "model.add(Conv2D(32, (3, 3), activation='relu', input_shape=(100,100,1)))\n",
        "model.add(Conv2D(32, (3, 3), activation='relu'))\n",
        "model.add(MaxPooling2D(pool_size=(2,2)))\n",
        "model.add(Dropout(0.25))\n",
        "model.add(Flatten())\n",
        "model.add(Dense(128, activation='relu')) # Adding The Input Layer \n",
        "model.add(Dropout(0.5))\n",
        "model.add(Dense(3, activation='softmax')) # Adding The OutPut Layer\n",
        "\n",
        "# Printing The Model Summary\n",
        "model.summary()"
      ],
      "metadata": {
        "colab": {
          "base_uri": "https://localhost:8080/"
        },
        "id": "33P6H5SRZHHE",
        "outputId": "86c24c49-09cf-4123-a85c-c304b6e0dff3"
      },
      "execution_count": null,
      "outputs": [
        {
          "output_type": "stream",
          "name": "stdout",
          "text": [
            "WARNING:tensorflow:From /tensorflow-1.15.2/python3.7/tensorflow_core/python/ops/resource_variable_ops.py:1630: calling BaseResourceVariable.__init__ (from tensorflow.python.ops.resource_variable_ops) with constraint is deprecated and will be removed in a future version.\n",
            "Instructions for updating:\n",
            "If using Keras pass *_constraint arguments to layers.\n",
            "WARNING:tensorflow:From /tensorflow-1.15.2/python3.7/keras/backend/tensorflow_backend.py:4070: The name tf.nn.max_pool is deprecated. Please use tf.nn.max_pool2d instead.\n",
            "\n",
            "Model: \"sequential_1\"\n",
            "_________________________________________________________________\n",
            "Layer (type)                 Output Shape              Param #   \n",
            "=================================================================\n",
            "conv2d_1 (Conv2D)            (None, 98, 98, 32)        320       \n",
            "_________________________________________________________________\n",
            "conv2d_2 (Conv2D)            (None, 96, 96, 32)        9248      \n",
            "_________________________________________________________________\n",
            "max_pooling2d_1 (MaxPooling2 (None, 48, 48, 32)        0         \n",
            "_________________________________________________________________\n",
            "dropout_1 (Dropout)          (None, 48, 48, 32)        0         \n",
            "_________________________________________________________________\n",
            "flatten_1 (Flatten)          (None, 73728)             0         \n",
            "_________________________________________________________________\n",
            "dense_1 (Dense)              (None, 128)               9437312   \n",
            "_________________________________________________________________\n",
            "dropout_2 (Dropout)          (None, 128)               0         \n",
            "_________________________________________________________________\n",
            "dense_2 (Dense)              (None, 3)                 387       \n",
            "=================================================================\n",
            "Total params: 9,447,267\n",
            "Trainable params: 9,447,267\n",
            "Non-trainable params: 0\n",
            "_________________________________________________________________\n"
          ]
        }
      ]
    },
    {
      "cell_type": "code",
      "source": [
        "# Compiling The Model\n",
        "\n",
        "model.compile(loss='categorical_crossentropy',\n",
        "              optimizer='adam', \n",
        "              metrics=['accuracy'])\n",
        "\n",
        "# Fitining model on the training dataset\n",
        "n=2530 \n",
        "\n",
        "model.fit(data_train_reshape[:n], targetdata_train_categorical[:n], \n",
        "          batch_size=32, epochs=5, verbose=1)"
      ],
      "metadata": {
        "colab": {
          "base_uri": "https://localhost:8080/"
        },
        "id": "RBQL1Md7feXp",
        "outputId": "afa0d1c8-3ab2-489b-9a9d-819991bb7a9e"
      },
      "execution_count": null,
      "outputs": [
        {
          "output_type": "stream",
          "name": "stdout",
          "text": [
            "WARNING:tensorflow:From /tensorflow-1.15.2/python3.7/keras/backend/tensorflow_backend.py:422: The name tf.global_variables is deprecated. Please use tf.compat.v1.global_variables instead.\n",
            "\n",
            "Epoch 1/5\n",
            "2530/2530 [==============================] - 75s 30ms/step - loss: 0.3791 - accuracy: 0.8688\n",
            "Epoch 2/5\n",
            "2530/2530 [==============================] - 74s 29ms/step - loss: 0.1453 - accuracy: 0.9577\n",
            "Epoch 3/5\n",
            "2530/2530 [==============================] - 74s 29ms/step - loss: 0.0988 - accuracy: 0.9704\n",
            "Epoch 4/5\n",
            "2530/2530 [==============================] - 74s 29ms/step - loss: 0.0700 - accuracy: 0.9767\n",
            "Epoch 5/5\n",
            "2530/2530 [==============================] - 74s 29ms/step - loss: 0.0626 - accuracy: 0.9791\n"
          ]
        },
        {
          "output_type": "execute_result",
          "data": {
            "text/plain": [
              "<keras.callbacks.callbacks.History at 0x7fa14b126250>"
            ]
          },
          "metadata": {},
          "execution_count": 17
        }
      ]
    },
    {
      "cell_type": "code",
      "source": [
        "# Evaluating The Model Performance On The Test Dataset\n",
        "loss, accuracy = model.evaluate(data_test_reshape[:n], targetdata_test_categorical[:n], verbose=0)\n",
        "print('Loss: ', loss,'\\nAcc: ', accuracy)"
      ],
      "metadata": {
        "id": "yeBRYkPokKiw",
        "colab": {
          "base_uri": "https://localhost:8080/"
        },
        "outputId": "72459331-9753-400c-fca3-16637f21b1d0"
      },
      "execution_count": null,
      "outputs": [
        {
          "output_type": "stream",
          "name": "stdout",
          "text": [
            "Loss:  0.10605844022525895 \n",
            "Acc:  0.9695852398872375\n"
          ]
        }
      ]
    },
    {
      "cell_type": "code",
      "source": [
        "# Checking The Labels That Have Been Predicted\n",
        "Data_predict=model.predict(data_test_reshape[:n]) \n",
        "Data_classes=np.argmax(Data_predict,axis=1)\n",
        "print(Data_classes)"
      ],
      "metadata": {
        "id": "uyNhlP4OrTOw",
        "colab": {
          "base_uri": "https://localhost:8080/"
        },
        "outputId": "24284a01-d85d-4ba7-c206-e050310f2144"
      },
      "execution_count": null,
      "outputs": [
        {
          "output_type": "stream",
          "name": "stdout",
          "text": [
            "[0 0 0 ... 0 1 0]\n"
          ]
        }
      ]
    },
    {
      "cell_type": "code",
      "source": [
        "# Printing The Classification Report\n",
        "\n",
        "# Chest - 0\n",
        "# Hand - 1\n",
        "# Shoulder - 2\n",
        "\n",
        "print(classification_report(targetdata_test,Data_classes))"
      ],
      "metadata": {
        "colab": {
          "base_uri": "https://localhost:8080/"
        },
        "id": "hUjwcT0s_-ji",
        "outputId": "12341b1a-ffc9-4977-a749-08c99fcde797"
      },
      "execution_count": null,
      "outputs": [
        {
          "output_type": "stream",
          "name": "stdout",
          "text": [
            "              precision    recall  f1-score   support\n",
            "\n",
            "           0       0.99      0.96      0.97       610\n",
            "           1       1.00      0.99      0.99       309\n",
            "           2       0.85      0.98      0.91       166\n",
            "\n",
            "    accuracy                           0.97      1085\n",
            "   macro avg       0.95      0.97      0.96      1085\n",
            "weighted avg       0.97      0.97      0.97      1085\n",
            "\n"
          ]
        }
      ]
    },
    {
      "cell_type": "code",
      "source": [
        "cfm1 = sns.heatmap(confusion_matrix(targetdata_test, Data_classes, normalize = 'true'), annot = True, cmap = 'Blues')\n",
        "\n",
        "cfm1.set_title('Seaborn Confusion Matrix with labels\\n\\n');\n",
        "cfm1.set_xlabel('\\nPredicted Values')\n",
        "cfm1.set_ylabel('Classes');\n",
        "\n",
        "## Ticket labels - List must be in alphabetical order\n",
        "cfm1.xaxis.set_ticklabels(['Chest','Hand','Shoulder'])\n",
        "cfm1.yaxis.set_ticklabels(['Chest','Hand','Shoulder'])\n",
        "\n",
        "## Display the visualization of the Confusion Matrix.\n",
        "plt.show()"
      ],
      "metadata": {
        "colab": {
          "base_uri": "https://localhost:8080/",
          "height": 337
        },
        "id": "ONMPXH5BTQv6",
        "outputId": "47cbfd5c-d78d-4840-d63c-02b38b1d06db"
      },
      "execution_count": null,
      "outputs": [
        {
          "output_type": "display_data",
          "data": {
            "text/plain": [
              "<Figure size 432x288 with 2 Axes>"
            ],
            "image/png": "[encoded data removed]"
          },
          "metadata": {
            "needs_background": "light"
          }
        }
      ]
    },
    {
      "cell_type": "markdown",
      "source": [
        "###**Conclusion:**"
      ],
      "metadata": {
        "id": "lxU4PpyNgBAR"
      }
    },
    {
      "cell_type": "markdown",
      "source": [
        "After Training the convolutional neural network on the training dataset and evaluating its peformance on the test set which returns the **loss** and **accuracy** , which are the loss of prediction obtained on the test dataset and accuracy obtained on the test dataset. In conclusion, we can observe that sufficient precision has been achieved in classifying the images. Anyone, on the other hand, can run this model by changing the number of epochs or any other parameter.\n",
        "\n",
        "However any conculsion drawn from this results can be considered ineffective why? because the dataset is imbalanced and it could skew the model into wrongly labeling each sample resulting to many false negatives and false positives."
      ],
      "metadata": {
        "id": "ys8IO0BldncR"
      }
    },
    {
      "cell_type": "markdown",
      "source": [
        "##**Task B**"
      ],
      "metadata": {
        "id": "rUojjp9NgwWM"
      }
    },
    {
      "cell_type": "markdown",
      "source": [
        "Performing Image Agumentation By Implenting Random undersampling On The Train Portion Of The original Dataset And Balancing The Classes To 387 Each, Creating A New Dataset With 387 Samples In Total."
      ],
      "metadata": {
        "id": "79RAfhuYAxpK"
      }
    },
    {
      "cell_type": "code",
      "source": [
        "import imblearn\n",
        "import collections\n",
        "from collections import Counter\n",
        "from imblearn.under_sampling import RandomUnderSampler\n",
        "\n",
        "# Reshaping The Original Dataset From 3D To 2D\n",
        "nsamples, nx, ny = data_train.shape\n",
        "d2_data_train = data_train.reshape((nsamples,nx*ny))\n",
        "\n",
        "# Performing Randomundersampling To The Training Dataset\n",
        "rus = RandomUnderSampler(random_state=42, replacement=True)\n",
        "data_rus, target_rus = rus.fit_resample(d2_data_train, targetdata_train )\n",
        "\n",
        "# Summarize Loaded Dataset\n",
        "print('original dataset shape:', Counter(targetdata_train))\n",
        "print('Resample dataset shape', Counter(target_rus))\n",
        "\n",
        "# Summarize Loaded Dataset\n",
        "print('Size of RUS augmented repository: ', data_rus.shape)\n",
        "print('Example of the RUS augmented repository: ')\n",
        "print(data_rus)"
      ],
      "metadata": {
        "id": "WZqv8-hlg71A",
        "colab": {
          "base_uri": "https://localhost:8080/"
        },
        "outputId": "35fd20be-b0c3-486d-ed58-14193e388b21"
      },
      "execution_count": null,
      "outputs": [
        {
          "output_type": "stream",
          "name": "stdout",
          "text": [
            "original dataset shape: Counter({0: 1421, 1: 722, 2: 387})\n",
            "Resample dataset shape Counter({0: 387, 1: 387, 2: 387})\n",
            "Size of RUS augmented repository:  (1161, 10000)\n",
            "Example of the RUS augmented repository: \n",
            "[[52 44 35 ... 77 77 79]\n",
            " [ 1  1  1 ...  4  5  7]\n",
            " [69 62 61 ...  0  0  6]\n",
            " ...\n",
            " [28 26 25 ... 24 28 28]\n",
            " [32 29 31 ... 31 31 28]\n",
            " [ 5  4  4 ...  4  4  4]]\n"
          ]
        }
      ]
    },
    {
      "cell_type": "code",
      "source": [
        "# Converting From Strings To Integers For Viewing\n",
        "\n",
        "# Implemennting A 70-30 Stratified Split\n",
        "import numpy as np\n",
        "from sklearn.model_selection import train_test_split\n",
        "datarepo_train, datarepo_test, target_rus_train, target_rus_test = train_test_split(data_rus, target_rus, stratify=target_rus, test_size=0.3)\n",
        "print(np.count_nonzero(target_rus_train == 0),np.count_nonzero(target_rus_train == 1),np.count_nonzero(target_rus_train == 2))\n",
        "print(np.count_nonzero(target_rus_test == 0),np.count_nonzero(target_rus_test == 1),np.count_nonzero(target_rus_test == 2))"
      ],
      "metadata": {
        "id": "xY_vtK8Xi0Am",
        "colab": {
          "base_uri": "https://localhost:8080/"
        },
        "outputId": "75da9f7e-3c4d-4b9b-80ea-984c747e78b7"
      },
      "execution_count": null,
      "outputs": [
        {
          "output_type": "stream",
          "name": "stdout",
          "text": [
            "271 271 270\n",
            "116 116 117\n"
          ]
        }
      ]
    },
    {
      "cell_type": "code",
      "source": [
        "# Training The SVM model With A Linear Kernel\n",
        "from sklearn.svm import SVC\n",
        "model = SVC(kernel='linear')"
      ],
      "metadata": {
        "id": "Xw8Wiu2akNPb"
      },
      "execution_count": null,
      "outputs": []
    },
    {
      "cell_type": "code",
      "source": [
        "# Fitining Model On The Training Dataset\n",
        "clf = model.fit(datarepo_train, target_rus_train)"
      ],
      "metadata": {
        "id": "mSL_m6jiplQn"
      },
      "execution_count": null,
      "outputs": []
    },
    {
      "cell_type": "code",
      "source": [
        "# Testing The Model On The Test Dataset\n",
        "target_rus_predicted = model.predict(datarepo_test)\n",
        "print(target_rus_predicted)"
      ],
      "metadata": {
        "id": "Xt0sTbBxtUEV",
        "colab": {
          "base_uri": "https://localhost:8080/"
        },
        "outputId": "4f183646-e78a-4ff0-a955-b0f451f6771a"
      },
      "execution_count": null,
      "outputs": [
        {
          "output_type": "stream",
          "name": "stdout",
          "text": [
            "[2 0 2 2 0 2 1 0 1 2 2 2 2 2 1 2 1 1 2 2 2 1 0 0 1 0 1 0 1 0 0 0 1 0 1 1 2\n",
            " 0 1 0 1 1 2 1 2 0 1 2 2 0 1 0 0 0 2 2 0 0 2 0 2 1 0 0 1 1 1 2 0 1 0 1 2 0\n",
            " 1 0 0 0 0 1 0 2 2 2 1 2 1 1 0 0 1 0 2 0 1 2 1 0 0 0 2 0 1 0 0 0 2 0 0 0 1\n",
            " 1 0 2 0 2 1 2 2 1 1 2 1 0 2 1 2 0 0 2 0 0 2 0 1 1 2 1 2 2 0 2 1 1 1 1 0 2\n",
            " 1 0 1 0 1 0 0 0 1 1 0 0 0 2 1 1 1 1 0 2 0 0 2 1 2 0 1 2 1 2 1 2 2 0 2 0 0\n",
            " 1 1 0 1 1 1 1 2 0 1 0 2 0 2 2 0 2 1 1 1 0 2 1 0 0 1 0 2 0 2 2 0 1 2 1 1 0\n",
            " 2 1 2 1 2 2 2 0 0 1 1 0 2 2 2 1 1 0 2 1 0 1 0 1 2 0 0 2 2 1 1 2 2 0 0 2 1\n",
            " 0 0 2 2 2 2 1 0 1 1 2 2 2 1 1 2 2 2 2 0 0 0 0 0 2 0 2 2 0 2 0 0 0 1 0 1 2\n",
            " 2 2 1 2 1 2 1 0 1 2 2 1 2 1 2 0 0 1 2 2 2 2 1 2 1 0 0 0 1 0 2 1 0 0 1 1 1\n",
            " 2 1 1 2 2 1 0 1 1 0 1 1 0 0 1 0]\n"
          ]
        }
      ]
    },
    {
      "cell_type": "code",
      "source": [
        "# Printing The Model's Accuracy\n",
        "comparison = target_rus_predicted == target_rus_test\n",
        "print('Accuracy', sum(comparison)/len(comparison))"
      ],
      "metadata": {
        "id": "mjose0-Rxgk3",
        "colab": {
          "base_uri": "https://localhost:8080/"
        },
        "outputId": "8efa25b8-29aa-46f4-856a-5ac09b2da6d5"
      },
      "execution_count": null,
      "outputs": [
        {
          "output_type": "stream",
          "name": "stdout",
          "text": [
            "Accuracy 0.8911174785100286\n"
          ]
        }
      ]
    },
    {
      "cell_type": "code",
      "source": [
        "# Printing The Classification Report\n",
        "\n",
        "# Chest - 0\n",
        "# Hand - 1\n",
        "# Shoulder - 2\n",
        "\n",
        "print(classification_report(target_rus_test,target_rus_predicted))"
      ],
      "metadata": {
        "id": "-w5D33zOxuqF",
        "colab": {
          "base_uri": "https://localhost:8080/"
        },
        "outputId": "e13ef97c-32b7-4e5a-b88f-ebce049563bf"
      },
      "execution_count": null,
      "outputs": [
        {
          "output_type": "stream",
          "name": "stdout",
          "text": [
            "              precision    recall  f1-score   support\n",
            "\n",
            "           0       0.82      0.85      0.84       116\n",
            "           1       1.00      1.00      1.00       116\n",
            "           2       0.85      0.82      0.83       117\n",
            "\n",
            "    accuracy                           0.89       349\n",
            "   macro avg       0.89      0.89      0.89       349\n",
            "weighted avg       0.89      0.89      0.89       349\n",
            "\n"
          ]
        }
      ]
    },
    {
      "cell_type": "code",
      "source": [
        "## Plotting The Confusion Matrix\n",
        "cfm2 = sns.heatmap(confusion_matrix(target_rus_test, target_rus_predicted, normalize = 'true'), annot = True, cmap = 'Blues')\n",
        "\n",
        "\n",
        "cfm2.set_title('Seaborn Confusion Matrix with labels\\n\\n');\n",
        "cfm2.set_xlabel('\\nPredicted Values')\n",
        "cfm2.set_ylabel('Classes');\n",
        "\n",
        "## Ticket labels - List must be in alphabetical order\n",
        "cfm2.xaxis.set_ticklabels(['Chest','Hand','Shoulder'])\n",
        "cfm2.yaxis.set_ticklabels(['Chest','Hand','Shoulder'])\n",
        "\n",
        "## Display the visualization of the Confusion Matrix.\n",
        "plt.show()\n"
      ],
      "metadata": {
        "colab": {
          "base_uri": "https://localhost:8080/",
          "height": 337
        },
        "id": "svAGq8XuTAlS",
        "outputId": "7f44377e-6b3b-40fb-ab01-8bffbc87b0de"
      },
      "execution_count": null,
      "outputs": [
        {
          "output_type": "display_data",
          "data": {
            "text/plain": [
              "<Figure size 432x288 with 2 Axes>"
            ],
            "image/png": "[encoded data removed]"
          },
          "metadata": {
            "needs_background": "light"
          }
        }
      ]
    },
    {
      "cell_type": "code",
      "source": [
        "# converting the test set labels into categorical (one-hot encoded) labels\n",
        "target_rus_test = to_categorical(target_rus_test, num_classes = 3)\n",
        "# getting the predicted probabilities of the Test Set Images\n",
        "target_rus_test_prob = clf.decision_function(datarepo_test)"
      ],
      "metadata": {
        "id": "OmwFX0VDjcpx"
      },
      "execution_count": null,
      "outputs": []
    },
    {
      "cell_type": "code",
      "source": [
        "from itertools import cycle\n",
        "\n",
        "classes = [\"'Chest'\", \"'Hand'\", \"'Shoulder'\"]\n",
        "\n",
        "fpr = dict()\n",
        "tpr = dict()\n",
        "roc_auc = dict()\n",
        "for i in range(3):\n",
        "    fpr[i], tpr[i], _ = roc_curve(target_rus_test [:, i], target_rus_test_prob [:, i])\n",
        "    roc_auc[i] = auc(fpr[i], tpr[i])\n",
        "\n",
        "\n",
        "colors = cycle([\"aqua\", \"darkorange\", \"cornflowerblue\"])\n",
        "for i, color in zip(range(3), colors):\n",
        "    plt.plot(\n",
        "        fpr[i],\n",
        "        tpr[i],\n",
        "        color=color,\n",
        "        label=\"ROC curve of class {0} (area = {1:0.2f})\".format(classes[i], roc_auc[i]),\n",
        "    )\n",
        "\n",
        "plt.plot([0, 1], [0, 1], \"k--\")\n",
        "plt.xlim([0.0, 1.0])\n",
        "plt.ylim([0.0, 1.05])\n",
        "plt.xlabel(\"False Positive Rate\")\n",
        "plt.ylabel(\"True Positive Rate\")\n",
        "plt.title(\"Some extension of Receiver operating characteristic to multiclass\")\n",
        "plt.legend(loc=\"lower right\")\n",
        "plt.show()"
      ],
      "metadata": {
        "colab": {
          "base_uri": "https://localhost:8080/",
          "height": 295
        },
        "id": "lIYar7f7j_ta",
        "outputId": "15005d66-68dc-481d-be0c-5b36755ee3be"
      },
      "execution_count": null,
      "outputs": [
        {
          "output_type": "display_data",
          "data": {
            "text/plain": [
              "<Figure size 432x288 with 1 Axes>"
            ],
            "image/png": "[encoded data removed]"
          },
          "metadata": {
            "needs_background": "light"
          }
        }
      ]
    },
    {
      "cell_type": "markdown",
      "source": [
        "###**Conclusion:**"
      ],
      "metadata": {
        "id": "O424eZ8JjY4u"
      }
    },
    {
      "cell_type": "markdown",
      "source": [
        "Compared to training the classification model on an imbalanced dataset in the first task, the dataset as been balanced using random undersampling. Creating a dataset sutable for an effective classification. By applying an SVM model for classification an accuracy of 90% was gotten.However there as some cons to implmenting random undersampling on a dataset;\n",
        "\n",
        "* Loss of potentially important data is particularly true with random undersampling when events are removed without any consideration for what they are and how useful they might be to the analysis.\n",
        "\n",
        "* Sample of the majority class chosen could be biased.\n",
        "\n",
        "Therefore the accuracy of the model is not so reliable."
      ],
      "metadata": {
        "id": "X3i1psLkjnE0"
      }
    },
    {
      "cell_type": "markdown",
      "source": [
        "##**Task C**"
      ],
      "metadata": {
        "id": "M5H0lhMRvpzz"
      }
    },
    {
      "cell_type": "markdown",
      "source": [
        "Classification Of The Test Portion Of The HGO Dataset Before Agumentation, Using NN(neural network) Model."
      ],
      "metadata": {
        "id": "q1JCHP_9xwqU"
      }
    },
    {
      "cell_type": "code",
      "source": [
        " # HOG Dataset \n",
        "os.environ['KERAS_BACKEND'] = 'tensorflow'\n",
        "np.random.seed(123)\n",
        "print(hogdata_train.shape, hogdata_test.shape)"
      ],
      "metadata": {
        "id": "vUhT3EGrys2c",
        "colab": {
          "base_uri": "https://localhost:8080/"
        },
        "outputId": "8f6d1c37-5654-4e56-d154-9dbc98468153"
      },
      "execution_count": null,
      "outputs": [
        {
          "output_type": "stream",
          "name": "stdout",
          "text": [
            "(2530, 1800) (1085, 1800)\n"
          ]
        }
      ]
    },
    {
      "cell_type": "code",
      "source": [
        "# Converting The image to \"float32\"\n",
        "hogdata_train = hogdata_train.astype('float32')\n",
        "hogdata_test  = hogdata_test.astype('float32')\n",
        "\n",
        "# Normalizing The Data To Help With The Training\n",
        "hogdata_train /= 255\n",
        "hogdata_test /= 255\n",
        "\n",
        "# Converting From Strings To Integers For Viewing\n",
        "targethogdata_train = pd.factorize(targethogdata_train)[0].astype(np.uint8)\n",
        "targethogdata_test = pd.factorize(targethogdata_test)[0].astype(np.uint8)\n",
        "\n",
        "# One-hot Encoding Using keras' Numpy-related Utilities\n",
        "n_classes = 3\n",
        "targethogdata_train_categorical = np_utils.to_categorical(targethogdata_train, n_classes)\n",
        "targethogdata_test_categorical = np_utils.to_categorical(targethogdata_test, n_classes)"
      ],
      "metadata": {
        "id": "Aglijs4qyQlG"
      },
      "execution_count": null,
      "outputs": []
    },
    {
      "cell_type": "code",
      "source": [
        "# Building A Linear Stack Of Layers With The Sequential Model\n",
        "\n",
        "model = Sequential()\n",
        "model.add(Dense(128, input_shape=(1800,), activation='relu'))\n",
        "model.add(Dense(8, activation='relu'))\n",
        "model.add(Dropout(0.25))\n",
        "model.add(Dense(3, activation='softmax'))\n",
        "\n",
        "# looking at the model summary\n",
        "model.summary()\n",
        "\n",
        "# Compiling the sequential model\n",
        "model.compile(loss='categorical_crossentropy', metrics=['accuracy'], optimizer='adam')\n"
      ],
      "metadata": {
        "colab": {
          "base_uri": "https://localhost:8080/"
        },
        "id": "JPaNP3HmvOIP",
        "outputId": "181ac741-02f0-4b51-c299-fc775d919d94"
      },
      "execution_count": null,
      "outputs": [
        {
          "output_type": "stream",
          "name": "stdout",
          "text": [
            "Model: \"sequential_3\"\n",
            "_________________________________________________________________\n",
            "Layer (type)                 Output Shape              Param #   \n",
            "=================================================================\n",
            "dense_6 (Dense)              (None, 128)               230528    \n",
            "_________________________________________________________________\n",
            "dense_7 (Dense)              (None, 8)                 1032      \n",
            "_________________________________________________________________\n",
            "dropout_4 (Dropout)          (None, 8)                 0         \n",
            "_________________________________________________________________\n",
            "dense_8 (Dense)              (None, 3)                 27        \n",
            "=================================================================\n",
            "Total params: 231,587\n",
            "Trainable params: 231,587\n",
            "Non-trainable params: 0\n",
            "_________________________________________________________________\n"
          ]
        }
      ]
    },
    {
      "cell_type": "code",
      "source": [
        "# Fitining model on the training dataset\n",
        "n=2530 \n",
        "\n",
        "model.fit(hogdata_train[:n], targethogdata_train_categorical[:n], \n",
        "          batch_size=32, epochs=5, verbose=1)"
      ],
      "metadata": {
        "colab": {
          "base_uri": "https://localhost:8080/"
        },
        "id": "ICROkLyQyqEH",
        "outputId": "2a68d636-ac87-4e9d-b18e-2df037b1e696"
      },
      "execution_count": null,
      "outputs": [
        {
          "output_type": "stream",
          "name": "stdout",
          "text": [
            "Epoch 1/5\n",
            "2530/2530 [==============================] - 1s 204us/step - loss: 0.1530 - accuracy: 0.9613\n",
            "Epoch 2/5\n",
            "2530/2530 [==============================] - 1s 201us/step - loss: 0.1425 - accuracy: 0.9664\n",
            "Epoch 3/5\n",
            "2530/2530 [==============================] - 1s 210us/step - loss: 0.1358 - accuracy: 0.9672\n",
            "Epoch 4/5\n",
            "2530/2530 [==============================] - 1s 198us/step - loss: 0.1298 - accuracy: 0.9628\n",
            "Epoch 5/5\n",
            "2530/2530 [==============================] - 1s 209us/step - loss: 0.1269 - accuracy: 0.9648\n"
          ]
        },
        {
          "output_type": "execute_result",
          "data": {
            "text/plain": [
              "<keras.callbacks.callbacks.History at 0x7fa14cedaf50>"
            ]
          },
          "metadata": {},
          "execution_count": 59
        }
      ]
    },
    {
      "cell_type": "code",
      "source": [
        "# Evaluating On The Test Dataset\n",
        "loss, accuracy = model.evaluate(hogdata_test[:n], targethogdata_test_categorical[:n], verbose=0)\n",
        "\n",
        "# Obtaining The 'Loss' And 'Accuracy'\n",
        "print('Loss: ', loss,'\\nAcc: ', accuracy)"
      ],
      "metadata": {
        "colab": {
          "base_uri": "https://localhost:8080/"
        },
        "id": "jNXG8Qk_zh7C",
        "outputId": "e8061a33-1721-4417-b282-defe96f1f1ab"
      },
      "execution_count": null,
      "outputs": [
        {
          "output_type": "stream",
          "name": "stdout",
          "text": [
            "Loss:  0.1113061866521286 \n",
            "Acc:  0.9723502397537231\n"
          ]
        }
      ]
    },
    {
      "cell_type": "code",
      "source": [
        "# Checking The labels That Have Been Predicted\n",
        "hog_predict=model.predict(hogdata_test[:n]) \n",
        "hog_classes=np.argmax(hog_predict,axis=1)\n",
        "print(hog_classes)"
      ],
      "metadata": {
        "colab": {
          "base_uri": "https://localhost:8080/"
        },
        "id": "iz-DSObP4rip",
        "outputId": "fa529a4e-4c10-423d-fe79-88c0813df2a4"
      },
      "execution_count": null,
      "outputs": [
        {
          "output_type": "stream",
          "name": "stdout",
          "text": [
            "[0 0 0 ... 0 1 0]\n"
          ]
        }
      ]
    },
    {
      "cell_type": "code",
      "source": [
        "# Printing The Classification Report\n",
        "\n",
        "# Chest - 0\n",
        "# Hand - 1\n",
        "# Shoulder - 2\n",
        "print(classification_report(targethogdata_test,hog_classes))"
      ],
      "metadata": {
        "colab": {
          "base_uri": "https://localhost:8080/"
        },
        "id": "1jtPML2z_Q3q",
        "outputId": "93f1fa92-a9f1-4402-b417-0c11bb91515d"
      },
      "execution_count": null,
      "outputs": [
        {
          "output_type": "stream",
          "name": "stdout",
          "text": [
            "              precision    recall  f1-score   support\n",
            "\n",
            "           0       0.97      0.98      0.98       610\n",
            "           1       0.98      1.00      0.99       309\n",
            "           2       0.95      0.89      0.92       166\n",
            "\n",
            "    accuracy                           0.97      1085\n",
            "   macro avg       0.97      0.96      0.96      1085\n",
            "weighted avg       0.97      0.97      0.97      1085\n",
            "\n"
          ]
        }
      ]
    },
    {
      "cell_type": "code",
      "source": [
        "cfm3 = sns.heatmap(confusion_matrix(targethogdata_test, hog_classes, normalize = 'true'), annot = True, cmap = 'Blues')\n",
        "\n",
        "cfm3.set_title('Seaborn Confusion Matrix with labels\\n\\n');\n",
        "cfm3.set_xlabel('\\nPredicted Values')\n",
        "cfm3.set_ylabel('Classes');\n",
        "\n",
        "## Ticket labels - List must be in alphabetical order\n",
        "cfm3.xaxis.set_ticklabels(['Chest','Hand','Shoulder'])\n",
        "cfm3.yaxis.set_ticklabels(['Chest','Hand','Shoulder'])\n",
        "\n",
        "## Display the visualization of the Confusion Matrix.\n",
        "plt.show()"
      ],
      "metadata": {
        "colab": {
          "base_uri": "https://localhost:8080/",
          "height": 337
        },
        "id": "DwLjed0kThHP",
        "outputId": "83a6b478-2c29-49ad-91ce-33625ddd8343"
      },
      "execution_count": null,
      "outputs": [
        {
          "output_type": "display_data",
          "data": {
            "text/plain": [
              "<Figure size 432x288 with 2 Axes>"
            ],
            "image/png": "[encoded data removed]"
          },
          "metadata": {
            "needs_background": "light"
          }
        }
      ]
    },
    {
      "cell_type": "markdown",
      "source": [
        "###**Conculsion:**"
      ],
      "metadata": {
        "id": "IEgY3Boit9TZ"
      }
    },
    {
      "cell_type": "markdown",
      "source": [
        "A NN model was implemented to train on the training dataset of the Hog repository and test on the test set an accuracy of 97% after running the model a couple of times.\n",
        "\n",
        "Histogram of oriented gradients improves the performance of a model, one can conclude that the accuracy score is a good one."
      ],
      "metadata": {
        "id": "6PCi1uxdqnco"
      }
    },
    {
      "cell_type": "markdown",
      "source": [
        "##**Task D**"
      ],
      "metadata": {
        "id": "pBHVmIfrAiYE"
      }
    },
    {
      "cell_type": "markdown",
      "source": [
        "Balancing The HOG Dataset using Random Over Sampling And Classifying The Using A Linear SVM Model. Creating A New Dataset With 1421 Number Of Samples Each."
      ],
      "metadata": {
        "id": "Y8fHQ-dkiJ-a"
      }
    },
    {
      "cell_type": "code",
      "source": [
        "from imblearn.over_sampling import RandomOverSampler\n",
        "ros = RandomOverSampler(random_state=0)\n",
        "hogrepo_ros, targethog_ros = ros.fit_resample(hogdata_train,targethogdata_train)"
      ],
      "metadata": {
        "id": "k-wn4fQ5r6QG"
      },
      "execution_count": null,
      "outputs": []
    },
    {
      "cell_type": "code",
      "source": [
        "arr = targethog_ros\n",
        "new_arr = np.zeros(shape = arr.shape, dtype=str)\n",
        "\n",
        "new_arr[(arr>=0)] = 'CHEST'\n",
        "new_arr[(arr>=1)] = 'HAND'\n",
        "new_arr[(arr>=2)] = 'SHOULDER'\n",
        "\n",
        "targethog_ros = new_arr.tolist()"
      ],
      "metadata": {
        "id": "A59_F-YFIaz3"
      },
      "execution_count": null,
      "outputs": []
    },
    {
      "cell_type": "code",
      "source": [
        "print('\\nCalculating class distribution (after ROS)...')\n",
        "histo = [['Class','Number of Samples']]\n",
        "for i, label1 in enumerate(sorted(list(set(targethog_ros)))):\n",
        "    cont = 0\n",
        "    for j, label2 in enumerate(targethog_ros):\n",
        "        if label1 == label2:\n",
        "            cont+=1\n",
        "    histo.append([label1,cont])\n",
        "histo.append(['Total Samples', len(targethog_ros)])\n",
        "## Convert histo into a panda dataframe\n",
        "histo_panda = pd.DataFrame.from_records(histo[1:-1], columns=histo[0])\n",
        "print(histo_panda)\n",
        "print('Total images: '+str(len(targethog_ros)))\n",
        "## Create a histogram using seaborn\n",
        "sns_plot = sns.barplot(y=\"Class\", x=\"Number of Samples\", data=histo_panda)\n",
        "## Save the image\n",
        "sns_plot.figure.set_size_inches(10,6)\n",
        "print('\\nShowing class distribution bar chart (after ROS)...')\n",
        "plt.show()\n",
        "\n",
        "print('Size of ROS augmented target: ', len(targethog_ros))\n",
        "print('Size of ROS augmented repository: ', hogrepo_ros.shape)\n",
        "print('Example of the ROS augmented repository: ')\n",
        "print(hogrepo_ros)"
      ],
      "metadata": {
        "colab": {
          "base_uri": "https://localhost:8080/",
          "height": 834
        },
        "id": "fou479u1r-33",
        "outputId": "d8bb0430-8983-4d78-fdb5-1c9e2d8a51da"
      },
      "execution_count": null,
      "outputs": [
        {
          "output_type": "stream",
          "name": "stdout",
          "text": [
            "\n",
            "Calculating class distribution (after ROS)...\n",
            "  Class  Number of Samples\n",
            "0     C               1421\n",
            "1     H               1421\n",
            "2     S               1421\n",
            "Total images: 4263\n",
            "\n",
            "Showing class distribution bar chart (after ROS)...\n"
          ]
        },
        {
          "output_type": "display_data",
          "data": {
            "text/plain": [
              "<Figure size 720x432 with 1 Axes>"
            ],
            "image/png": "[encoded data removed]"
          },
          "metadata": {
            "needs_background": "light"
          }
        },
        {
          "output_type": "stream",
          "name": "stdout",
          "text": [
            "Size of ROS augmented target:  4263\n",
            "Size of ROS augmented repository:  (4263, 1800)\n",
            "Example of the ROS augmented repository: \n",
            "[[1.2913861e-03 1.9729047e-04 1.2913861e-03 ... 7.8750565e-04\n",
            "  1.2963300e-03 0.0000000e+00]\n",
            " [1.6248052e-03 0.0000000e+00 0.0000000e+00 ... 1.1318820e-03\n",
            "  7.1655837e-04 0.0000000e+00]\n",
            " [2.4342299e-03 1.3349556e-03 5.6657093e-05 ... 0.0000000e+00\n",
            "  1.1074946e-03 3.1026904e-04]\n",
            " ...\n",
            " [1.5014821e-05 0.0000000e+00 3.6464568e-05 ... 0.0000000e+00\n",
            "  0.0000000e+00 0.0000000e+00]\n",
            " [1.3049793e-03 0.0000000e+00 1.1135933e-03 ... 2.8799253e-04\n",
            "  0.0000000e+00 0.0000000e+00]\n",
            " [2.7212708e-03 0.0000000e+00 0.0000000e+00 ... 0.0000000e+00\n",
            "  0.0000000e+00 2.7579148e-03]]\n"
          ]
        }
      ]
    },
    {
      "cell_type": "code",
      "source": [
        "# Converting From Strings To Integers For Viewing\n",
        "targethog_ros = pd.factorize(targethog_ros)[0].astype(np.uint8)"
      ],
      "metadata": {
        "id": "XDvQ510muU5T"
      },
      "execution_count": null,
      "outputs": []
    },
    {
      "cell_type": "code",
      "source": [
        "import numpy as np\n",
        "from sklearn.model_selection import train_test_split\n",
        "\n",
        "# Implemennting A 70-30 Stratified Split\n",
        "hogrepo_train, hogrepo_test, target_ros_train, target_ros_test = train_test_split(hogrepo_ros, targethog_ros, stratify=targethog_ros, test_size=0.3)\n",
        "\n",
        "# Summarize Split Dataset\n",
        "print('training dataset shape :', Counter(target_ros_train))\n",
        "print('test dataset shape :', Counter(target_ros_test))"
      ],
      "metadata": {
        "colab": {
          "base_uri": "https://localhost:8080/"
        },
        "id": "U7NnhzJuVoYF",
        "outputId": "d621daf3-acf2-49a1-8a2e-50356dcf2f5c"
      },
      "execution_count": null,
      "outputs": [
        {
          "output_type": "stream",
          "name": "stdout",
          "text": [
            "training dataset shape : Counter({0: 995, 1: 995, 2: 994})\n",
            "test dataset shape : Counter({2: 427, 0: 426, 1: 426})\n"
          ]
        }
      ]
    },
    {
      "cell_type": "code",
      "source": [
        "from sklearn.svm import LinearSVC, SVC\n",
        "from sklearn.model_selection import GridSearchCV\n",
        "\n",
        "clf = SVC(kernel = 'linear', random_state = 1234)\n",
        "parameters = {'C':[0.001, 0.01, 0.1, 1, 10, 100]}\n",
        "# grid-search hyper-parameter tuning \n",
        "grid_search = GridSearchCV(param_grid = parameters, estimator = clf, cv = 3, verbose = 3)"
      ],
      "metadata": {
        "id": "3nzhiLqfXv9Z"
      },
      "execution_count": null,
      "outputs": []
    },
    {
      "cell_type": "code",
      "source": [
        "grid_search = grid_search.fit(hogrepo_train, target_ros_train) # 3-fold GridSearch Cross Validation"
      ],
      "metadata": {
        "colab": {
          "base_uri": "https://localhost:8080/"
        },
        "id": "9psyeF3vYCIU",
        "outputId": "58ae33c0-60e2-4d53-92b3-be46f6870bf7"
      },
      "execution_count": null,
      "outputs": [
        {
          "output_type": "stream",
          "name": "stdout",
          "text": [
            "Fitting 3 folds for each of 6 candidates, totalling 18 fits\n",
            "[CV 1/3] END ...........................C=0.001;, score=0.917 total time=  11.1s\n",
            "[CV 2/3] END ...........................C=0.001;, score=0.333 total time=  12.1s\n",
            "[CV 3/3] END ...........................C=0.001;, score=0.333 total time=  13.1s\n",
            "[CV 1/3] END ............................C=0.01;, score=0.917 total time=  11.9s\n",
            "[CV 2/3] END ............................C=0.01;, score=0.333 total time=  11.8s\n",
            "[CV 3/3] END ............................C=0.01;, score=0.333 total time=  11.7s\n",
            "[CV 1/3] END .............................C=0.1;, score=0.917 total time=  11.4s\n",
            "[CV 2/3] END .............................C=0.1;, score=0.333 total time=  11.6s\n",
            "[CV 3/3] END .............................C=0.1;, score=0.333 total time=  12.0s\n",
            "[CV 1/3] END ...............................C=1;, score=0.917 total time=  13.8s\n",
            "[CV 2/3] END ...............................C=1;, score=0.333 total time=  12.2s\n",
            "[CV 3/3] END ...............................C=1;, score=0.333 total time=  11.2s\n",
            "[CV 1/3] END ..............................C=10;, score=0.929 total time=  10.0s\n",
            "[CV 2/3] END ..............................C=10;, score=0.924 total time=   8.9s\n",
            "[CV 3/3] END ..............................C=10;, score=0.937 total time=   9.1s\n",
            "[CV 1/3] END .............................C=100;, score=0.959 total time=   3.0s\n",
            "[CV 2/3] END .............................C=100;, score=0.966 total time=   3.0s\n",
            "[CV 3/3] END .............................C=100;, score=0.964 total time=   3.2s\n"
          ]
        }
      ]
    },
    {
      "cell_type": "code",
      "source": [
        "grid_search.best_params_ # finding best set of hyper-parameters"
      ],
      "metadata": {
        "colab": {
          "base_uri": "https://localhost:8080/"
        },
        "id": "_gem_cAgYg4z",
        "outputId": "34f06a68-54c3-450d-f977-8913f1d5b9a1"
      },
      "execution_count": null,
      "outputs": [
        {
          "output_type": "execute_result",
          "data": {
            "text/plain": [
              "{'C': 100}"
            ]
          },
          "metadata": {},
          "execution_count": 47
        }
      ]
    },
    {
      "cell_type": "code",
      "source": [
        "# training Linear SVM Model with best hyper-parameter, C = 100\n",
        "clf = SVC(C = 100, kernel = 'linear', random_state = 1234).fit(hogrepo_train, target_ros_train)"
      ],
      "metadata": {
        "id": "Iju_z7TYYnuP"
      },
      "execution_count": null,
      "outputs": []
    },
    {
      "cell_type": "code",
      "source": [
        "target_ros_pred = clf.predict(hogrepo_test) # getting the predictions for the Test Set Images"
      ],
      "metadata": {
        "id": "c8mL7UiRYyew"
      },
      "execution_count": null,
      "outputs": []
    },
    {
      "cell_type": "code",
      "source": [
        "print('Training Accuracy: ', accuracy_score(target_ros_train, clf.predict(hogrepo_train)))\n",
        "print('Test Accuracy: ', accuracy_score(target_ros_test , target_ros_pred))"
      ],
      "metadata": {
        "colab": {
          "base_uri": "https://localhost:8080/"
        },
        "id": "9Fl-22hUZBsN",
        "outputId": "cca924dc-7b06-42fb-ce3c-609b8dfa96c7"
      },
      "execution_count": null,
      "outputs": [
        {
          "output_type": "stream",
          "name": "stdout",
          "text": [
            "Training Accuracy:  0.9668230563002681\n",
            "Test Accuracy:  0.9687255668491008\n"
          ]
        }
      ]
    },
    {
      "cell_type": "code",
      "source": [
        "print(classification_report(target_ros_test , target_ros_pred))"
      ],
      "metadata": {
        "colab": {
          "base_uri": "https://localhost:8080/"
        },
        "id": "vfqF6eDag5_n",
        "outputId": "9691bac0-a4c5-41b9-db69-118ac392b6e3"
      },
      "execution_count": null,
      "outputs": [
        {
          "output_type": "stream",
          "name": "stdout",
          "text": [
            "              precision    recall  f1-score   support\n",
            "\n",
            "           0       0.95      0.96      0.95       426\n",
            "           1       1.00      1.00      1.00       426\n",
            "           2       0.96      0.95      0.95       427\n",
            "\n",
            "    accuracy                           0.97      1279\n",
            "   macro avg       0.97      0.97      0.97      1279\n",
            "weighted avg       0.97      0.97      0.97      1279\n",
            "\n"
          ]
        }
      ]
    },
    {
      "cell_type": "code",
      "source": [
        "cfm4 = sns.heatmap(confusion_matrix(target_ros_test, target_ros_pred, normalize = 'true'), annot = True, cmap = 'Blues')\n",
        "\n",
        "cfm4.set_title('Seaborn Confusion Matrix with labels\\n\\n');\n",
        "cfm4.set_xlabel('\\nPredicted Values')\n",
        "cfm4.set_ylabel('Classes');\n",
        "\n",
        "## Ticket labels - List must be in alphabetical order\n",
        "cfm4.xaxis.set_ticklabels(['Chest','Hand','Shoulder'])\n",
        "cfm4.yaxis.set_ticklabels(['Chest','Hand','Shoulder'])\n",
        "\n",
        "## Display the visualization of the Confusion Matrix.\n",
        "plt.show()"
      ],
      "metadata": {
        "colab": {
          "base_uri": "https://localhost:8080/",
          "height": 337
        },
        "id": "Pje9TikzhE2V",
        "outputId": "b68d8041-f431-4bc3-e3db-38b03a67c8f3"
      },
      "execution_count": null,
      "outputs": [
        {
          "output_type": "display_data",
          "data": {
            "text/plain": [
              "<Figure size 432x288 with 2 Axes>"
            ],
            "image/png": "[encoded data removed]"
          },
          "metadata": {
            "needs_background": "light"
          }
        }
      ]
    },
    {
      "cell_type": "code",
      "source": [
        "# converting the test set labels into categorical (one-hot encoded) labels\n",
        "target_ros_test = to_categorical(target_ros_test, num_classes = 3)\n",
        "# getting the predicted probabilities of the Test Set Images\n",
        "target_ros_test_prob = clf.decision_function(hogrepo_test)"
      ],
      "metadata": {
        "id": "4F4h3iXUivXd"
      },
      "execution_count": null,
      "outputs": []
    },
    {
      "cell_type": "code",
      "source": [
        "from itertools import cycle\n",
        "\n",
        "classes = [\"'Chest'\", \"'Hand'\", \"'Shoulder'\"]\n",
        "\n",
        "fpr = dict()\n",
        "tpr = dict()\n",
        "roc_auc = dict()\n",
        "for i in range(3):\n",
        "    fpr[i], tpr[i], _ = roc_curve(target_ros_test[:, i], target_ros_test_prob[:, i])\n",
        "    roc_auc[i] = auc(fpr[i], tpr[i])\n",
        "\n",
        "\n",
        "colors = cycle([\"aqua\", \"darkorange\", \"cornflowerblue\"])\n",
        "for i, color in zip(range(3), colors):\n",
        "    plt.plot(\n",
        "        fpr[i],\n",
        "        tpr[i],\n",
        "        color=color,\n",
        "        label=\"ROC curve of class {0} (area = {1:0.2f})\".format(classes[i], roc_auc[i]),\n",
        "    )\n",
        "\n",
        "plt.plot([0, 1], [0, 1], \"k--\")\n",
        "plt.xlim([0.0, 1.0])\n",
        "plt.ylim([0.0, 1.05])\n",
        "plt.xlabel(\"False Positive Rate\")\n",
        "plt.ylabel(\"True Positive Rate\")\n",
        "plt.title(\"Some extension of Receiver operating characteristic to multiclass\")\n",
        "plt.legend(loc=\"lower right\")\n",
        "plt.show()"
      ],
      "metadata": {
        "colab": {
          "base_uri": "https://localhost:8080/",
          "height": 295
        },
        "id": "9dEIN1bbjA9i",
        "outputId": "c902b52d-e4e8-43ad-8deb-de44bf149d68"
      },
      "execution_count": null,
      "outputs": [
        {
          "output_type": "display_data",
          "data": {
            "text/plain": [
              "<Figure size 432x288 with 1 Axes>"
            ],
            "image/png": "[encoded data removed]"
          },
          "metadata": {
            "needs_background": "light"
          }
        }
      ]
    },
    {
      "cell_type": "markdown",
      "source": [
        "###**Conculsion:**"
      ],
      "metadata": {
        "id": "6Hqo5QPR8F9I"
      }
    },
    {
      "cell_type": "markdown",
      "source": [
        "An accuracy of 96% is gotten on both the test and training dataset, after implementing an SVM model. The peformance of the model was improved by choosing the best hyperparameter. 96% is a good number, however the HOG dataset as been balanced using random oversampling which is an alternative method to random undersampling used in task b, which can be a reason to second guess the accuracy of the classification why? it doesn’t neccesary lead to any loss of information, and in some cases, may perform better than undersampling. But oversampling isn’t perfect either. Because oversampling often involves replicating minority events, it can lead to overfitting.\n",
        "\n",
        "Also SVM generally do not suffer condition of overfitting and performs well when there is a clear indication of separation between classes but our classes are balanced which gives room for doubt, if more time was given to training other classification models and compare each results against themselves one might eventually find the best model."
      ],
      "metadata": {
        "id": "9ljnbw9S-FwS"
      }
    }
  ],
  "metadata": {
    "colab": {
      "provenance": [],
      "authorship_tag": "ABX9TyOmRR6PMQlXUPTFNlMq8IyS",
      "include_colab_link": true
    },
    "kernelspec": {
      "display_name": "Python 3",
      "name": "python3"
    },
    "language_info": {
      "name": "python"
    }
  },
  "nbformat": 4,
  "nbformat_minor": 0
}
